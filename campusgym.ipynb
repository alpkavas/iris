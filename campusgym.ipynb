{
 "cells": [
  {
   "cell_type": "code",
   "execution_count": 102,
   "id": "2dfd6f2e",
   "metadata": {},
   "outputs": [],
   "source": [
    "# Gerekli kütüphaneleri içe aktaralım\n",
    "import pandas as pd\n",
    "import numpy as np\n",
    "import matplotlib.pyplot as plt\n",
    "import seaborn as sns\n",
    "from sklearn.model_selection import train_test_split\n",
    "from sklearn.metrics import accuracy_score, classification_report, confusion_matrix\n",
    "from sklearn.metrics import r2_score, mean_absolute_error, mean_squared_error\n",
    "%matplotlib inline\n"
   ]
  },
  {
   "cell_type": "code",
   "execution_count": 103,
   "id": "fbce3236",
   "metadata": {},
   "outputs": [],
   "source": [
    "df = pd.read_csv(\"15-gym_crowdedness.csv\")"
   ]
  },
  {
   "cell_type": "code",
   "execution_count": 104,
   "id": "46a1cec5",
   "metadata": {},
   "outputs": [
    {
     "data": {
      "text/html": [
       "<div>\n",
       "<style scoped>\n",
       "    .dataframe tbody tr th:only-of-type {\n",
       "        vertical-align: middle;\n",
       "    }\n",
       "\n",
       "    .dataframe tbody tr th {\n",
       "        vertical-align: top;\n",
       "    }\n",
       "\n",
       "    .dataframe thead th {\n",
       "        text-align: right;\n",
       "    }\n",
       "</style>\n",
       "<table border=\"1\" class=\"dataframe\">\n",
       "  <thead>\n",
       "    <tr style=\"text-align: right;\">\n",
       "      <th></th>\n",
       "      <th>number_people</th>\n",
       "      <th>date</th>\n",
       "      <th>timestamp</th>\n",
       "      <th>day_of_week</th>\n",
       "      <th>is_weekend</th>\n",
       "      <th>is_holiday</th>\n",
       "      <th>temperature</th>\n",
       "      <th>is_start_of_semester</th>\n",
       "      <th>is_during_semester</th>\n",
       "      <th>month</th>\n",
       "      <th>hour</th>\n",
       "    </tr>\n",
       "  </thead>\n",
       "  <tbody>\n",
       "    <tr>\n",
       "      <th>0</th>\n",
       "      <td>37</td>\n",
       "      <td>2015-08-14 17:00:11-07:00</td>\n",
       "      <td>61211</td>\n",
       "      <td>4</td>\n",
       "      <td>0</td>\n",
       "      <td>0</td>\n",
       "      <td>71.76</td>\n",
       "      <td>0</td>\n",
       "      <td>0</td>\n",
       "      <td>8</td>\n",
       "      <td>17</td>\n",
       "    </tr>\n",
       "    <tr>\n",
       "      <th>1</th>\n",
       "      <td>45</td>\n",
       "      <td>2015-08-14 17:20:14-07:00</td>\n",
       "      <td>62414</td>\n",
       "      <td>4</td>\n",
       "      <td>0</td>\n",
       "      <td>0</td>\n",
       "      <td>71.76</td>\n",
       "      <td>0</td>\n",
       "      <td>0</td>\n",
       "      <td>8</td>\n",
       "      <td>17</td>\n",
       "    </tr>\n",
       "    <tr>\n",
       "      <th>2</th>\n",
       "      <td>40</td>\n",
       "      <td>2015-08-14 17:30:15-07:00</td>\n",
       "      <td>63015</td>\n",
       "      <td>4</td>\n",
       "      <td>0</td>\n",
       "      <td>0</td>\n",
       "      <td>71.76</td>\n",
       "      <td>0</td>\n",
       "      <td>0</td>\n",
       "      <td>8</td>\n",
       "      <td>17</td>\n",
       "    </tr>\n",
       "  </tbody>\n",
       "</table>\n",
       "</div>"
      ],
      "text/plain": [
       "   number_people                       date  timestamp  day_of_week  \\\n",
       "0             37  2015-08-14 17:00:11-07:00      61211            4   \n",
       "1             45  2015-08-14 17:20:14-07:00      62414            4   \n",
       "2             40  2015-08-14 17:30:15-07:00      63015            4   \n",
       "\n",
       "   is_weekend  is_holiday  temperature  is_start_of_semester  \\\n",
       "0           0           0        71.76                     0   \n",
       "1           0           0        71.76                     0   \n",
       "2           0           0        71.76                     0   \n",
       "\n",
       "   is_during_semester  month  hour  \n",
       "0                   0      8    17  \n",
       "1                   0      8    17  \n",
       "2                   0      8    17  "
      ]
     },
     "execution_count": 104,
     "metadata": {},
     "output_type": "execute_result"
    }
   ],
   "source": [
    "df.head(3)"
   ]
  },
  {
   "cell_type": "code",
   "execution_count": 105,
   "id": "c4ddc3d2",
   "metadata": {},
   "outputs": [
    {
     "data": {
      "text/plain": [
       "(62184, 11)"
      ]
     },
     "execution_count": 105,
     "metadata": {},
     "output_type": "execute_result"
    }
   ],
   "source": [
    "df.shape"
   ]
  },
  {
   "cell_type": "code",
   "execution_count": 106,
   "id": "e4933047",
   "metadata": {},
   "outputs": [
    {
     "name": "stdout",
     "output_type": "stream",
     "text": [
      "<class 'pandas.core.frame.DataFrame'>\n",
      "RangeIndex: 62184 entries, 0 to 62183\n",
      "Data columns (total 11 columns):\n",
      " #   Column                Non-Null Count  Dtype  \n",
      "---  ------                --------------  -----  \n",
      " 0   number_people         62184 non-null  int64  \n",
      " 1   date                  62184 non-null  object \n",
      " 2   timestamp             62184 non-null  int64  \n",
      " 3   day_of_week           62184 non-null  int64  \n",
      " 4   is_weekend            62184 non-null  int64  \n",
      " 5   is_holiday            62184 non-null  int64  \n",
      " 6   temperature           62184 non-null  float64\n",
      " 7   is_start_of_semester  62184 non-null  int64  \n",
      " 8   is_during_semester    62184 non-null  int64  \n",
      " 9   month                 62184 non-null  int64  \n",
      " 10  hour                  62184 non-null  int64  \n",
      "dtypes: float64(1), int64(9), object(1)\n",
      "memory usage: 5.2+ MB\n"
     ]
    }
   ],
   "source": [
    "df.info()"
   ]
  },
  {
   "cell_type": "code",
   "execution_count": 107,
   "id": "559fd9bf",
   "metadata": {},
   "outputs": [
    {
     "data": {
      "text/plain": [
       "Index(['number_people', 'date', 'timestamp', 'day_of_week', 'is_weekend',\n",
       "       'is_holiday', 'temperature', 'is_start_of_semester',\n",
       "       'is_during_semester', 'month', 'hour'],\n",
       "      dtype='object')"
      ]
     },
     "execution_count": 107,
     "metadata": {},
     "output_type": "execute_result"
    }
   ],
   "source": [
    "df.columns"
   ]
  },
  {
   "cell_type": "code",
   "execution_count": 108,
   "id": "9508977f",
   "metadata": {},
   "outputs": [
    {
     "data": {
      "text/plain": [
       "number_people           0\n",
       "date                    0\n",
       "timestamp               0\n",
       "day_of_week             0\n",
       "is_weekend              0\n",
       "is_holiday              0\n",
       "temperature             0\n",
       "is_start_of_semester    0\n",
       "is_during_semester      0\n",
       "month                   0\n",
       "hour                    0\n",
       "dtype: int64"
      ]
     },
     "execution_count": 108,
     "metadata": {},
     "output_type": "execute_result"
    }
   ],
   "source": [
    "df.isnull().sum()"
   ]
  },
  {
   "cell_type": "code",
   "execution_count": 109,
   "id": "1c72c5d4",
   "metadata": {},
   "outputs": [
    {
     "data": {
      "text/html": [
       "<div>\n",
       "<style scoped>\n",
       "    .dataframe tbody tr th:only-of-type {\n",
       "        vertical-align: middle;\n",
       "    }\n",
       "\n",
       "    .dataframe tbody tr th {\n",
       "        vertical-align: top;\n",
       "    }\n",
       "\n",
       "    .dataframe thead th {\n",
       "        text-align: right;\n",
       "    }\n",
       "</style>\n",
       "<table border=\"1\" class=\"dataframe\">\n",
       "  <thead>\n",
       "    <tr style=\"text-align: right;\">\n",
       "      <th></th>\n",
       "      <th>number_people</th>\n",
       "      <th>timestamp</th>\n",
       "      <th>day_of_week</th>\n",
       "      <th>is_weekend</th>\n",
       "      <th>is_holiday</th>\n",
       "      <th>temperature</th>\n",
       "      <th>is_start_of_semester</th>\n",
       "      <th>is_during_semester</th>\n",
       "      <th>month</th>\n",
       "      <th>hour</th>\n",
       "    </tr>\n",
       "  </thead>\n",
       "  <tbody>\n",
       "    <tr>\n",
       "      <th>count</th>\n",
       "      <td>62184.000000</td>\n",
       "      <td>62184.000000</td>\n",
       "      <td>62184.000000</td>\n",
       "      <td>62184.000000</td>\n",
       "      <td>62184.000000</td>\n",
       "      <td>62184.000000</td>\n",
       "      <td>62184.000000</td>\n",
       "      <td>62184.000000</td>\n",
       "      <td>62184.000000</td>\n",
       "      <td>62184.000000</td>\n",
       "    </tr>\n",
       "    <tr>\n",
       "      <th>mean</th>\n",
       "      <td>29.072543</td>\n",
       "      <td>45799.437958</td>\n",
       "      <td>2.982504</td>\n",
       "      <td>0.282870</td>\n",
       "      <td>0.002573</td>\n",
       "      <td>58.557108</td>\n",
       "      <td>0.078831</td>\n",
       "      <td>0.660218</td>\n",
       "      <td>7.439824</td>\n",
       "      <td>12.236460</td>\n",
       "    </tr>\n",
       "    <tr>\n",
       "      <th>std</th>\n",
       "      <td>22.689026</td>\n",
       "      <td>24211.275891</td>\n",
       "      <td>1.996825</td>\n",
       "      <td>0.450398</td>\n",
       "      <td>0.050660</td>\n",
       "      <td>6.316396</td>\n",
       "      <td>0.269476</td>\n",
       "      <td>0.473639</td>\n",
       "      <td>3.445069</td>\n",
       "      <td>6.717631</td>\n",
       "    </tr>\n",
       "    <tr>\n",
       "      <th>min</th>\n",
       "      <td>0.000000</td>\n",
       "      <td>0.000000</td>\n",
       "      <td>0.000000</td>\n",
       "      <td>0.000000</td>\n",
       "      <td>0.000000</td>\n",
       "      <td>38.140000</td>\n",
       "      <td>0.000000</td>\n",
       "      <td>0.000000</td>\n",
       "      <td>1.000000</td>\n",
       "      <td>0.000000</td>\n",
       "    </tr>\n",
       "    <tr>\n",
       "      <th>25%</th>\n",
       "      <td>9.000000</td>\n",
       "      <td>26624.000000</td>\n",
       "      <td>1.000000</td>\n",
       "      <td>0.000000</td>\n",
       "      <td>0.000000</td>\n",
       "      <td>55.000000</td>\n",
       "      <td>0.000000</td>\n",
       "      <td>0.000000</td>\n",
       "      <td>5.000000</td>\n",
       "      <td>7.000000</td>\n",
       "    </tr>\n",
       "    <tr>\n",
       "      <th>50%</th>\n",
       "      <td>28.000000</td>\n",
       "      <td>46522.500000</td>\n",
       "      <td>3.000000</td>\n",
       "      <td>0.000000</td>\n",
       "      <td>0.000000</td>\n",
       "      <td>58.340000</td>\n",
       "      <td>0.000000</td>\n",
       "      <td>1.000000</td>\n",
       "      <td>8.000000</td>\n",
       "      <td>12.000000</td>\n",
       "    </tr>\n",
       "    <tr>\n",
       "      <th>75%</th>\n",
       "      <td>43.000000</td>\n",
       "      <td>66612.000000</td>\n",
       "      <td>5.000000</td>\n",
       "      <td>1.000000</td>\n",
       "      <td>0.000000</td>\n",
       "      <td>62.280000</td>\n",
       "      <td>0.000000</td>\n",
       "      <td>1.000000</td>\n",
       "      <td>10.000000</td>\n",
       "      <td>18.000000</td>\n",
       "    </tr>\n",
       "    <tr>\n",
       "      <th>max</th>\n",
       "      <td>145.000000</td>\n",
       "      <td>86399.000000</td>\n",
       "      <td>6.000000</td>\n",
       "      <td>1.000000</td>\n",
       "      <td>1.000000</td>\n",
       "      <td>87.170000</td>\n",
       "      <td>1.000000</td>\n",
       "      <td>1.000000</td>\n",
       "      <td>12.000000</td>\n",
       "      <td>23.000000</td>\n",
       "    </tr>\n",
       "  </tbody>\n",
       "</table>\n",
       "</div>"
      ],
      "text/plain": [
       "       number_people     timestamp   day_of_week    is_weekend    is_holiday  \\\n",
       "count   62184.000000  62184.000000  62184.000000  62184.000000  62184.000000   \n",
       "mean       29.072543  45799.437958      2.982504      0.282870      0.002573   \n",
       "std        22.689026  24211.275891      1.996825      0.450398      0.050660   \n",
       "min         0.000000      0.000000      0.000000      0.000000      0.000000   \n",
       "25%         9.000000  26624.000000      1.000000      0.000000      0.000000   \n",
       "50%        28.000000  46522.500000      3.000000      0.000000      0.000000   \n",
       "75%        43.000000  66612.000000      5.000000      1.000000      0.000000   \n",
       "max       145.000000  86399.000000      6.000000      1.000000      1.000000   \n",
       "\n",
       "        temperature  is_start_of_semester  is_during_semester         month  \\\n",
       "count  62184.000000          62184.000000        62184.000000  62184.000000   \n",
       "mean      58.557108              0.078831            0.660218      7.439824   \n",
       "std        6.316396              0.269476            0.473639      3.445069   \n",
       "min       38.140000              0.000000            0.000000      1.000000   \n",
       "25%       55.000000              0.000000            0.000000      5.000000   \n",
       "50%       58.340000              0.000000            1.000000      8.000000   \n",
       "75%       62.280000              0.000000            1.000000     10.000000   \n",
       "max       87.170000              1.000000            1.000000     12.000000   \n",
       "\n",
       "               hour  \n",
       "count  62184.000000  \n",
       "mean      12.236460  \n",
       "std        6.717631  \n",
       "min        0.000000  \n",
       "25%        7.000000  \n",
       "50%       12.000000  \n",
       "75%       18.000000  \n",
       "max       23.000000  "
      ]
     },
     "execution_count": 109,
     "metadata": {},
     "output_type": "execute_result"
    }
   ],
   "source": [
    "df.describe()"
   ]
  },
  {
   "cell_type": "code",
   "execution_count": 110,
   "id": "117e9928",
   "metadata": {},
   "outputs": [],
   "source": [
    "df[\"date\"] = pd.to_datetime(df[\"date\"], utc= True)"
   ]
  },
  {
   "cell_type": "code",
   "execution_count": 111,
   "id": "c5048151",
   "metadata": {},
   "outputs": [
    {
     "name": "stdout",
     "output_type": "stream",
     "text": [
      "<class 'pandas.core.frame.DataFrame'>\n",
      "RangeIndex: 62184 entries, 0 to 62183\n",
      "Data columns (total 11 columns):\n",
      " #   Column                Non-Null Count  Dtype              \n",
      "---  ------                --------------  -----              \n",
      " 0   number_people         62184 non-null  int64              \n",
      " 1   date                  62184 non-null  datetime64[ns, UTC]\n",
      " 2   timestamp             62184 non-null  int64              \n",
      " 3   day_of_week           62184 non-null  int64              \n",
      " 4   is_weekend            62184 non-null  int64              \n",
      " 5   is_holiday            62184 non-null  int64              \n",
      " 6   temperature           62184 non-null  float64            \n",
      " 7   is_start_of_semester  62184 non-null  int64              \n",
      " 8   is_during_semester    62184 non-null  int64              \n",
      " 9   month                 62184 non-null  int64              \n",
      " 10  hour                  62184 non-null  int64              \n",
      "dtypes: datetime64[ns, UTC](1), float64(1), int64(9)\n",
      "memory usage: 5.2 MB\n"
     ]
    }
   ],
   "source": [
    "df.info()"
   ]
  },
  {
   "cell_type": "code",
   "execution_count": 112,
   "id": "3551e275",
   "metadata": {},
   "outputs": [],
   "source": [
    "df[\"year\"] = df[\"date\"].dt.year"
   ]
  },
  {
   "cell_type": "code",
   "execution_count": 113,
   "id": "a279d0a5",
   "metadata": {},
   "outputs": [
    {
     "data": {
      "text/html": [
       "<div>\n",
       "<style scoped>\n",
       "    .dataframe tbody tr th:only-of-type {\n",
       "        vertical-align: middle;\n",
       "    }\n",
       "\n",
       "    .dataframe tbody tr th {\n",
       "        vertical-align: top;\n",
       "    }\n",
       "\n",
       "    .dataframe thead th {\n",
       "        text-align: right;\n",
       "    }\n",
       "</style>\n",
       "<table border=\"1\" class=\"dataframe\">\n",
       "  <thead>\n",
       "    <tr style=\"text-align: right;\">\n",
       "      <th></th>\n",
       "      <th>number_people</th>\n",
       "      <th>date</th>\n",
       "      <th>timestamp</th>\n",
       "      <th>day_of_week</th>\n",
       "      <th>is_weekend</th>\n",
       "      <th>is_holiday</th>\n",
       "      <th>temperature</th>\n",
       "      <th>is_start_of_semester</th>\n",
       "      <th>is_during_semester</th>\n",
       "      <th>month</th>\n",
       "      <th>hour</th>\n",
       "      <th>year</th>\n",
       "    </tr>\n",
       "  </thead>\n",
       "  <tbody>\n",
       "    <tr>\n",
       "      <th>0</th>\n",
       "      <td>37</td>\n",
       "      <td>2015-08-15 00:00:11+00:00</td>\n",
       "      <td>61211</td>\n",
       "      <td>4</td>\n",
       "      <td>0</td>\n",
       "      <td>0</td>\n",
       "      <td>71.76</td>\n",
       "      <td>0</td>\n",
       "      <td>0</td>\n",
       "      <td>8</td>\n",
       "      <td>17</td>\n",
       "      <td>2015</td>\n",
       "    </tr>\n",
       "    <tr>\n",
       "      <th>1</th>\n",
       "      <td>45</td>\n",
       "      <td>2015-08-15 00:20:14+00:00</td>\n",
       "      <td>62414</td>\n",
       "      <td>4</td>\n",
       "      <td>0</td>\n",
       "      <td>0</td>\n",
       "      <td>71.76</td>\n",
       "      <td>0</td>\n",
       "      <td>0</td>\n",
       "      <td>8</td>\n",
       "      <td>17</td>\n",
       "      <td>2015</td>\n",
       "    </tr>\n",
       "    <tr>\n",
       "      <th>2</th>\n",
       "      <td>40</td>\n",
       "      <td>2015-08-15 00:30:15+00:00</td>\n",
       "      <td>63015</td>\n",
       "      <td>4</td>\n",
       "      <td>0</td>\n",
       "      <td>0</td>\n",
       "      <td>71.76</td>\n",
       "      <td>0</td>\n",
       "      <td>0</td>\n",
       "      <td>8</td>\n",
       "      <td>17</td>\n",
       "      <td>2015</td>\n",
       "    </tr>\n",
       "    <tr>\n",
       "      <th>3</th>\n",
       "      <td>44</td>\n",
       "      <td>2015-08-15 00:40:16+00:00</td>\n",
       "      <td>63616</td>\n",
       "      <td>4</td>\n",
       "      <td>0</td>\n",
       "      <td>0</td>\n",
       "      <td>71.76</td>\n",
       "      <td>0</td>\n",
       "      <td>0</td>\n",
       "      <td>8</td>\n",
       "      <td>17</td>\n",
       "      <td>2015</td>\n",
       "    </tr>\n",
       "    <tr>\n",
       "      <th>4</th>\n",
       "      <td>45</td>\n",
       "      <td>2015-08-15 00:50:17+00:00</td>\n",
       "      <td>64217</td>\n",
       "      <td>4</td>\n",
       "      <td>0</td>\n",
       "      <td>0</td>\n",
       "      <td>71.76</td>\n",
       "      <td>0</td>\n",
       "      <td>0</td>\n",
       "      <td>8</td>\n",
       "      <td>17</td>\n",
       "      <td>2015</td>\n",
       "    </tr>\n",
       "  </tbody>\n",
       "</table>\n",
       "</div>"
      ],
      "text/plain": [
       "   number_people                      date  timestamp  day_of_week  \\\n",
       "0             37 2015-08-15 00:00:11+00:00      61211            4   \n",
       "1             45 2015-08-15 00:20:14+00:00      62414            4   \n",
       "2             40 2015-08-15 00:30:15+00:00      63015            4   \n",
       "3             44 2015-08-15 00:40:16+00:00      63616            4   \n",
       "4             45 2015-08-15 00:50:17+00:00      64217            4   \n",
       "\n",
       "   is_weekend  is_holiday  temperature  is_start_of_semester  \\\n",
       "0           0           0        71.76                     0   \n",
       "1           0           0        71.76                     0   \n",
       "2           0           0        71.76                     0   \n",
       "3           0           0        71.76                     0   \n",
       "4           0           0        71.76                     0   \n",
       "\n",
       "   is_during_semester  month  hour  year  \n",
       "0                   0      8    17  2015  \n",
       "1                   0      8    17  2015  \n",
       "2                   0      8    17  2015  \n",
       "3                   0      8    17  2015  \n",
       "4                   0      8    17  2015  "
      ]
     },
     "execution_count": 113,
     "metadata": {},
     "output_type": "execute_result"
    }
   ],
   "source": [
    "df.head()"
   ]
  },
  {
   "cell_type": "code",
   "execution_count": 114,
   "id": "d9b37ebd",
   "metadata": {},
   "outputs": [
    {
     "data": {
      "text/plain": [
       "array([2015, 2016, 2017], dtype=int32)"
      ]
     },
     "execution_count": 114,
     "metadata": {},
     "output_type": "execute_result"
    }
   ],
   "source": [
    "df[\"year\"].unique()"
   ]
  },
  {
   "cell_type": "code",
   "execution_count": 115,
   "id": "b1c5684b",
   "metadata": {},
   "outputs": [],
   "source": [
    "df.drop(\"date\", axis=1 , inplace=True)"
   ]
  },
  {
   "cell_type": "code",
   "execution_count": 116,
   "id": "7cf64a05",
   "metadata": {},
   "outputs": [
    {
     "data": {
      "text/plain": [
       "Text(0.5, 1.0, 'saatlik ort insan sayısı')"
      ]
     },
     "execution_count": 116,
     "metadata": {},
     "output_type": "execute_result"
    },
    {
     "data": {
      "image/png": "[encoded data removed]",
      "text/plain": [
       "<Figure size 640x480 with 1 Axes>"
      ]
     },
     "metadata": {},
     "output_type": "display_data"
    }
   ],
   "source": [
    "sns.lineplot(data=df, x=\"hour\", y=\"number_people\", errorbar=None)\n",
    "plt.title(\"saatlik ort insan sayısı\")"
   ]
  },
  {
   "cell_type": "code",
   "execution_count": 117,
   "id": "54306c92",
   "metadata": {},
   "outputs": [],
   "source": [
    "df.drop(\"timestamp\", axis=1 , inplace=True)"
   ]
  },
  {
   "cell_type": "code",
   "execution_count": 118,
   "id": "16023b09",
   "metadata": {},
   "outputs": [],
   "source": [
    "X = df.drop(\"number_people\" , axis=1)\n",
    "y = df[\"number_people\"]"
   ]
  },
  {
   "cell_type": "code",
   "execution_count": 119,
   "id": "6d3897d0",
   "metadata": {},
   "outputs": [],
   "source": [
    "X_train, X_test, y_train, y_test = train_test_split(X,y, test_size=0.3, random_state=15)"
   ]
  },
  {
   "cell_type": "code",
   "execution_count": 120,
   "id": "9c094022",
   "metadata": {},
   "outputs": [],
   "source": [
    "from sklearn.ensemble import RandomForestRegressor\n",
    "from sklearn.linear_model import LinearRegression,Ridge,Lasso\n",
    "from sklearn.neighbors import KNeighborsRegressor\n",
    "from sklearn.tree import DecisionTreeRegressor"
   ]
  },
  {
   "cell_type": "code",
   "execution_count": 121,
   "id": "a5f9b870",
   "metadata": {},
   "outputs": [],
   "source": [
    "def cal_model_metrics(true, predicted):\n",
    "    mae = mean_absolute_error(true, predicted)\n",
    "    mse = mean_squared_error(true, predicted)\n",
    "    rmse = np.sqrt(mean_squared_error(true, predicted))\n",
    "    r2score = r2_score(true,predicted)\n",
    "    return mae, mse, rmse, r2score"
   ]
  },
  {
   "cell_type": "code",
   "execution_count": 129,
   "id": "e1a9e5c2",
   "metadata": {},
   "outputs": [],
   "source": [
    "models = {\n",
    "        \"LinearRegression\" : LinearRegression(),\n",
    "        \"Lasso\" : Lasso(),\n",
    "        \"Ridge\" : Ridge(),\n",
    "        \"K-Neigbors Regressor\" : KNeighborsRegressor(),\n",
    "        \"Decision Tree \" : DecisionTreeRegressor(),\n",
    "        \"Random Forest\" : RandomForestRegressor()\n",
    "\n",
    "} # regression models"
   ]
  },
  {
   "cell_type": "code",
   "execution_count": 131,
   "id": "4d094cd6",
   "metadata": {},
   "outputs": [
    {
     "name": "stdout",
     "output_type": "stream",
     "text": [
      "LinearRegression()\n",
      "---------------------------------\n",
      "Evaluation for Training Set\n",
      "Mean Absolute Error:  10.736278545598953\n",
      "Mean Square Error:  205.15013531793224\n",
      "RMSE:  14.32306305641123\n",
      "R2 Score:  0.5990450245502554\n",
      "---------------------------------\n",
      "Evaluation for Test Set\n",
      "Mean Absolute Error:  10.772974414744983\n",
      "Mean Square Error:  208.1786957813293\n",
      "RMSE:  14.42839893339969\n",
      "R2 Score:  0.6011719749263869\n",
      "---------------------------------\n",
      "\n",
      "\n",
      "Lasso()\n",
      "---------------------------------\n",
      "Evaluation for Training Set\n",
      "Mean Absolute Error:  11.203650794797749\n",
      "Mean Square Error:  220.3757301674302\n",
      "RMSE:  14.845057432271194\n",
      "R2 Score:  0.5692874131325135\n",
      "---------------------------------\n",
      "Evaluation for Test Set\n",
      "Mean Absolute Error:  11.21308889907535\n",
      "Mean Square Error:  223.84537475940746\n",
      "RMSE:  14.96146298860534\n",
      "R2 Score:  0.5711578055473432\n",
      "---------------------------------\n",
      "\n",
      "\n",
      "Ridge()\n",
      "---------------------------------\n",
      "Evaluation for Training Set\n",
      "Mean Absolute Error:  10.73626779741761\n",
      "Mean Square Error:  205.15013955689528\n",
      "RMSE:  14.323063204388065\n",
      "R2 Score:  0.5990450162654287\n",
      "---------------------------------\n",
      "Evaluation for Test Set\n",
      "Mean Absolute Error:  10.772956745337526\n",
      "Mean Square Error:  208.17877317957144\n",
      "RMSE:  14.428401615548808\n",
      "R2 Score:  0.6011718266471022\n",
      "---------------------------------\n",
      "\n",
      "\n",
      "KNeighborsRegressor()\n",
      "---------------------------------\n",
      "Evaluation for Training Set\n",
      "Mean Absolute Error:  3.8541904061753356\n",
      "Mean Square Error:  33.32295533909208\n",
      "RMSE:  5.7726038612650425\n",
      "R2 Score:  0.9348720646993856\n",
      "---------------------------------\n",
      "Evaluation for Test Set\n",
      "Mean Absolute Error:  5.2052208404802744\n",
      "Mean Square Error:  60.9372448542024\n",
      "RMSE:  7.806231155570683\n",
      "R2 Score:  0.8832566371529338\n",
      "---------------------------------\n",
      "\n",
      "\n",
      "DecisionTreeRegressor()\n",
      "---------------------------------\n",
      "Evaluation for Training Set\n",
      "Mean Absolute Error:  3.1163373380572903\n",
      "Mean Square Error:  21.43059007783086\n",
      "RMSE:  4.629318532768172\n",
      "R2 Score:  0.9581150570278024\n",
      "---------------------------------\n",
      "Evaluation for Test Set\n",
      "Mean Absolute Error:  4.407540448231635\n",
      "Mean Square Error:  44.81530171054735\n",
      "RMSE:  6.694423179822691\n",
      "R2 Score:  0.9141430000451625\n",
      "---------------------------------\n",
      "\n",
      "\n",
      "RandomForestRegressor()\n",
      "---------------------------------\n",
      "Evaluation for Training Set\n",
      "Mean Absolute Error:  3.164112080049849\n",
      "Mean Square Error:  21.783431911727973\n",
      "RMSE:  4.667272427417107\n",
      "R2 Score:  0.9574254465207043\n",
      "---------------------------------\n",
      "Evaluation for Test Set\n",
      "Mean Absolute Error:  4.330734459700914\n",
      "Mean Square Error:  41.889198305812926\n",
      "RMSE:  6.472186516611903\n",
      "R2 Score:  0.919748818823551\n",
      "---------------------------------\n",
      "\n",
      "\n"
     ]
    }
   ],
   "source": [
    "for i in range(len(list(models))):\n",
    "    model = list(models.values())[i]\n",
    "    model.fit(X_train, y_train)\n",
    "\n",
    "    y_train_pred = model.predict(X_train) # train datasındanda accuracysini almak için train aşırı yüksek test düşükse overfitting fazla \n",
    "    y_test_pred = model.predict(X_test)\n",
    "\n",
    "    model_train_mae,model_train_mse, model_train_rmse, model_train_r2 = cal_model_metrics(y_train, y_train_pred)\n",
    "    model_test_mae,model_test_mse, model_test_rmse, model_test_r2 = cal_model_metrics(y_test, y_test_pred)\n",
    "\n",
    "    print(list(models.values())[i])\n",
    "\n",
    "    print(\"---------------------------------\")\n",
    "\n",
    "    print(\"Evaluation for Training Set\")\n",
    "    print(\"Mean Absolute Error: \",  model_train_mae)\n",
    "    print(\"Mean Square Error: \",  model_train_mse)\n",
    "    print(\"RMSE: \",  model_train_rmse)\n",
    "    print(\"R2 Score: \",  model_train_r2)\n",
    "    print(\"---------------------------------\")\n",
    "\n",
    "    print(\"Evaluation for Test Set\")\n",
    "    print(\"Mean Absolute Error: \",  model_test_mae)\n",
    "    print(\"Mean Square Error: \",  model_test_mse)\n",
    "    print(\"RMSE: \",  model_test_rmse)\n",
    "    print(\"R2 Score: \",  model_test_r2)\n",
    "    print(\"---------------------------------\")\n",
    "    print(\"\\n\")"
   ]
  },
  {
   "cell_type": "code",
   "execution_count": 132,
   "id": "4dfa6b22",
   "metadata": {},
   "outputs": [],
   "source": [
    "# Hyperparameter "
   ]
  },
  {
   "cell_type": "code",
   "execution_count": 143,
   "id": "e11d898e",
   "metadata": {},
   "outputs": [],
   "source": [
    "knn_params = {\"n_neighbors\" : [2,3,4,5,20,40,50] }\n",
    "\n",
    "rf_params = {\n",
    "        \"n_estimators\" : [10,20,50,100,200,250],\n",
    "        \"max_depth\" : [5,8,15,None],\n",
    "        \"max_features\" : [\"sqrt\", \"log2\", 5, 7, 10],\n",
    "        \"min_samples_split\" : [2,8,12,20],\n",
    "}"
   ]
  },
  {
   "cell_type": "code",
   "execution_count": 144,
   "id": "cfe6d6fe",
   "metadata": {},
   "outputs": [],
   "source": [
    "from sklearn.model_selection import RandomizedSearchCV"
   ]
  },
  {
   "cell_type": "code",
   "execution_count": 145,
   "id": "cc2d7fdb",
   "metadata": {},
   "outputs": [],
   "source": [
    "randomcv_models = [(\"KNN\", KNeighborsRegressor(), knn_params),\n",
    "                   (\"RF\", RandomForestRegressor(), rf_params)]"
   ]
  },
  {
   "cell_type": "code",
   "execution_count": 146,
   "id": "f23ecb2c",
   "metadata": {},
   "outputs": [
    {
     "name": "stderr",
     "output_type": "stream",
     "text": [
      "c:\\Users\\alkav\\AppData\\Local\\Programs\\Python\\Python313\\Lib\\site-packages\\sklearn\\model_selection\\_search.py:317: UserWarning: The total space of parameters 7 is smaller than n_iter=100. Running 7 iterations. For exhaustive searches, use GridSearchCV.\n",
      "  warnings.warn(\n"
     ]
    },
    {
     "name": "stdout",
     "output_type": "stream",
     "text": [
      "best params for : KNN {'n_neighbors': 2}\n",
      "best params for : RF {'n_estimators': 100, 'min_samples_split': 2, 'max_features': 'sqrt', 'max_depth': None}\n"
     ]
    }
   ],
   "source": [
    "for name, model , params in randomcv_models:\n",
    "    randomCV = RandomizedSearchCV(estimator=model, param_distributions=params, n_iter = 100, cv= 3, n_jobs=-1)\n",
    "    randomCV.fit(X_train, y_train)\n",
    "    print(\"best params for :\" , name, randomCV.best_params_ )"
   ]
  },
  {
   "cell_type": "markdown",
   "id": "9f2560a8",
   "metadata": {},
   "source": [
    "best params for : KNN {'n_neighbors': 2}\n",
    "best params for : RF {'n_estimators': 100, 'min_samples_split': 2, 'max_features': 'sqrt', 'max_depth': None}"
   ]
  },
  {
   "cell_type": "code",
   "execution_count": 148,
   "id": "28852a59",
   "metadata": {},
   "outputs": [],
   "source": [
    "models = {\n",
    "\n",
    "        \"K-Neigbors Regressor\" : KNeighborsRegressor(n_neighbors = 2),\n",
    "        \"Random Forest\" : RandomForestRegressor(\n",
    "            n_estimators=100,\n",
    "            min_samples_split=2,\n",
    "            max_features=\"sqrt\",\n",
    "            max_depth=None)\n",
    "\n",
    "} # regression models"
   ]
  },
  {
   "cell_type": "code",
   "execution_count": 149,
   "id": "e7eeed23",
   "metadata": {},
   "outputs": [
    {
     "name": "stdout",
     "output_type": "stream",
     "text": [
      "KNeighborsRegressor(n_neighbors=2)\n",
      "---------------------------------\n",
      "Evaluation for Training Set\n",
      "Mean Absolute Error:  3.4956924278625254\n",
      "Mean Square Error:  29.046435627641976\n",
      "RMSE:  5.389474522404014\n",
      "R2 Score:  0.9432302939214012\n",
      "---------------------------------\n",
      "Evaluation for Test Set\n",
      "Mean Absolute Error:  4.709959262435677\n",
      "Mean Square Error:  50.40734884219554\n",
      "RMSE:  7.099813296291357\n",
      "R2 Score:  0.9034297754989944\n",
      "---------------------------------\n",
      "\n",
      "\n",
      "RandomForestRegressor(max_features='sqrt')\n",
      "---------------------------------\n",
      "Evaluation for Training Set\n",
      "Mean Absolute Error:  3.166082765288126\n",
      "Mean Square Error:  21.77127838444348\n",
      "RMSE:  4.665970251131428\n",
      "R2 Score:  0.9574491999402495\n",
      "---------------------------------\n",
      "Evaluation for Test Set\n",
      "Mean Absolute Error:  4.329075828259771\n",
      "Mean Square Error:  41.50674912167576\n",
      "RMSE:  6.4425731755002795\n",
      "R2 Score:  0.9204815136472358\n",
      "---------------------------------\n",
      "\n",
      "\n"
     ]
    }
   ],
   "source": [
    "for i in range(len(list(models))):\n",
    "    model = list(models.values())[i]\n",
    "    model.fit(X_train, y_train)\n",
    "\n",
    "    y_train_pred = model.predict(X_train) # train datasındanda accuracysini almak için train aşırı yüksek test düşükse overfitting fazla \n",
    "    y_test_pred = model.predict(X_test)\n",
    "\n",
    "    model_train_mae,model_train_mse, model_train_rmse, model_train_r2 = cal_model_metrics(y_train, y_train_pred)\n",
    "    model_test_mae,model_test_mse, model_test_rmse, model_test_r2 = cal_model_metrics(y_test, y_test_pred)\n",
    "\n",
    "    print(list(models.values())[i])\n",
    "\n",
    "    print(\"---------------------------------\")\n",
    "\n",
    "    print(\"Evaluation for Training Set\")\n",
    "    print(\"Mean Absolute Error: \",  model_train_mae)\n",
    "    print(\"Mean Square Error: \",  model_train_mse)\n",
    "    print(\"RMSE: \",  model_train_rmse)\n",
    "    print(\"R2 Score: \",  model_train_r2)\n",
    "    print(\"---------------------------------\")\n",
    "\n",
    "    print(\"Evaluation for Test Set\")\n",
    "    print(\"Mean Absolute Error: \",  model_test_mae)\n",
    "    print(\"Mean Square Error: \",  model_test_mse)\n",
    "    print(\"RMSE: \",  model_test_rmse)\n",
    "    print(\"R2 Score: \",  model_test_r2)\n",
    "    print(\"---------------------------------\")\n",
    "    print(\"\\n\")"
   ]
  },
  {
   "cell_type": "code",
   "execution_count": null,
   "id": "e8913842",
   "metadata": {},
   "outputs": [],
   "source": []
  }
 ],
 "metadata": {
  "kernelspec": {
   "display_name": "Python 3",
   "language": "python",
   "name": "python3"
  },
  "language_info": {
   "codemirror_mode": {
    "name": "ipython",
    "version": 3
   },
   "file_extension": ".py",
   "mimetype": "text/x-python",
   "name": "python",
   "nbconvert_exporter": "python",
   "pygments_lexer": "ipython3",
   "version": "3.13.5"
  }
 },
 "nbformat": 4,
 "nbformat_minor": 5
}
